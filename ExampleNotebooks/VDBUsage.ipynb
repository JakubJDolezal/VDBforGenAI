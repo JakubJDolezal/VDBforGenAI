{
 "cells": [
  {
   "cell_type": "code",
   "execution_count": 1,
   "id": "8fd02d62-4ff2-4e3b-93ee-bde39ed223a6",
   "metadata": {},
   "outputs": [
    {
     "name": "stderr",
     "output_type": "stream",
     "text": [
      "C:\\Users\\jakub\\anaconda3\\envs\\Torch\\lib\\site-packages\\tqdm\\auto.py:21: TqdmWarning: IProgress not found. Please update jupyter and ipywidgets. See https://ipywidgets.readthedocs.io/en/stable/user_install.html\n",
      "  from .autonotebook import tqdm as notebook_tqdm\n"
     ]
    }
   ],
   "source": [
    "from VDBforGenAI.VectorDatabase import VectorDatabase\n",
    "a=VectorDatabase()\n",
    "a.load_all_in_directory('./ExampleFolder')\n",
    "a.list_of_lists_of_strings"
   ]
  },
  {
   "cell_type": "code",
   "execution_count": 2,
   "id": "74dadcf1-efa0-4dac-9de1-40860b2cdc4b",
   "metadata": {},
   "outputs": [],
   "source": []
  },
  {
   "cell_type": "code",
   "execution_count": 5,
   "id": "b21e557f-c0e0-4054-957e-4abfd4ebc6a9",
   "metadata": {},
   "outputs": [],
   "source": []
  },
  {
   "cell_type": "code",
   "execution_count": 4,
   "id": "24e1f0e3-e177-463e-86ea-596a440483cc",
   "metadata": {},
   "outputs": [],
   "source": []
  }
 ],
 "metadata": {
  "kernelspec": {
   "display_name": "Python 3 (ipykernel)",
   "language": "python",
   "name": "python3"
  },
  "language_info": {
   "codemirror_mode": {
    "name": "ipython",
    "version": 3
   },
   "file_extension": ".py",
   "mimetype": "text/x-python",
   "name": "python",
   "nbconvert_exporter": "python",
   "pygments_lexer": "ipython3",
   "version": "3.10.10"
  }
 },
 "nbformat": 4,
 "nbformat_minor": 5
}
